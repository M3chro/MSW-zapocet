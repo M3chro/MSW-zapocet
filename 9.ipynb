{
 "cells": [
  {
   "cell_type": "markdown",
   "metadata": {},
   "source": [
    "## **9) Integrace funkce jedné proměnné**"
   ]
  },
  {
   "cell_type": "code",
   "execution_count": 44,
   "metadata": {},
   "outputs": [],
   "source": [
    "import numpy as np\n",
    "from scipy import integrate\n",
    "\n",
    "def f(x):\n",
    "    return 3*x**5 + 2*x**3 - 4*x**2 + 2\n",
    "\n",
    "def g(x):\n",
    "    return np.exp(2*x**3)\n",
    "\n",
    "def h(x):\n",
    "    return 3*np.sin(2*x - 1) + 1\n",
    "\n",
    "def trapezoid(f, x, dx):\n",
    "    return np.trapz(f(x), dx=dx)\n",
    "\n",
    "def simpson(f, x, dx):\n",
    "    return integrate.simpson(f(x), dx=dx)\n",
    "\n",
    "def romberg(f, a, b):\n",
    "    return integrate.romberg(f, a, b)\n",
    "\n",
    "def gaussian(f, a, b):\n",
    "    return integrate.quadrature(f, a, b)[0]"
   ]
  },
  {
   "cell_type": "markdown",
   "metadata": {},
   "source": [
    "#### První funkce\n",
    "![Funkce](9_imgs/f.png)"
   ]
  },
  {
   "cell_type": "code",
   "execution_count": 45,
   "metadata": {},
   "outputs": [
    {
     "name": "stdout",
     "output_type": "stream",
     "text": [
      "Lichoběžník: 33.33539999\n",
      "Simpson: 33.33333337333334\n",
      "Romberg: 33.333333333333336\n",
      "Gaussian: 33.333333333333314\n"
     ]
    }
   ],
   "source": [
    "a = 0\n",
    "b = 2\n",
    "dx = 0.01\n",
    "\n",
    "print(f\"Lichoběžník: {trapezoid(f, np.arange(a, b+dx, dx), dx)}\")\n",
    "print(f\"Simpson: {simpson(f, np.arange(a, b+dx, dx), dx)}\")\n",
    "print(f\"Romberg: {romberg(f, a, b)}\")\n",
    "print(f\"Gaussian: {gaussian(f, a, b)}\")\n"
   ]
  },
  {
   "cell_type": "markdown",
   "metadata": {},
   "source": [
    "#### Druhá funkce\n",
    "![Funkce](9_imgs/g.png)"
   ]
  },
  {
   "cell_type": "code",
   "execution_count": 46,
   "metadata": {},
   "outputs": [
    {
     "name": "stdout",
     "output_type": "stream",
     "text": [
      "Lichoběžník: 389423.90839839954\n",
      "Simpson: 387656.2199613404\n",
      "Romberg: 387648.60378557374\n",
      "Gaussian: 387648.6032790912\n"
     ]
    }
   ],
   "source": [
    "print(f\"Lichoběžník: {trapezoid(g, np.arange(a, b+dx, dx), dx)}\")\n",
    "print(f\"Simpson: {simpson(g, np.arange(a, b+dx, dx), dx)}\")\n",
    "print(f\"Romberg: {romberg(g, a, b)}\")\n",
    "print(f\"Gaussian: {gaussian(g, a, b)}\")"
   ]
  },
  {
   "cell_type": "markdown",
   "metadata": {},
   "source": [
    "#### Třetí funkce\n",
    "![Funkce](9_imgs/h.png)"
   ]
  },
  {
   "cell_type": "code",
   "execution_count": 47,
   "metadata": {},
   "outputs": [
    {
     "name": "stdout",
     "output_type": "stream",
     "text": [
      "Lichoběžník: 4.295365688452652\n",
      "Simpson: 4.2954422057433685\n",
      "Romberg: 4.295442203702874\n",
      "Gaussian: 4.295442203785549\n"
     ]
    }
   ],
   "source": [
    "print(f\"Lichoběžník: {trapezoid(h, np.arange(a, b+dx, dx), dx)}\")\n",
    "print(f\"Simpson: {simpson(h, np.arange(a, b+dx, dx), dx)}\")\n",
    "print(f\"Romberg: {romberg(h, a, b)}\")\n",
    "print(f\"Gaussian: {gaussian(h, a, b)}\")"
   ]
  }
 ],
 "metadata": {
  "interpreter": {
   "hash": "88279d2366fe020547cde40dd65aa0e3aa662a6ec1f3ca12d88834876c85e1a6"
  },
  "kernelspec": {
   "display_name": "Python 3.9.7 ('base')",
   "language": "python",
   "name": "python3"
  },
  "language_info": {
   "codemirror_mode": {
    "name": "ipython",
    "version": 3
   },
   "file_extension": ".py",
   "mimetype": "text/x-python",
   "name": "python",
   "nbconvert_exporter": "python",
   "pygments_lexer": "ipython3",
   "version": "3.9.7"
  },
  "orig_nbformat": 4
 },
 "nbformat": 4,
 "nbformat_minor": 2
}
