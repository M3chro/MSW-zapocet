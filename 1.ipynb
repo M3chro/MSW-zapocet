{
 "cells": [
  {
   "cell_type": "markdown",
   "metadata": {},
   "source": [
    "### **Skalární součin**"
   ]
  },
  {
   "cell_type": "markdown",
   "metadata": {},
   "source": [
    "##### Python"
   ]
  },
  {
   "cell_type": "code",
   "execution_count": null,
   "metadata": {},
   "outputs": [],
   "source": [
    "import numpy as np\n",
    "from time import process_time\n",
    "\n",
    "a = [25, 45, 14, 35, 2, 6, 34]\n",
    "b = [36, 86, 93, 11, 26, 57, 78]\n",
    "\n",
    "t = process_time()\n",
    "\n",
    "def dot_product(a, b): \n",
    "    val = 0\n",
    "    for i, j in zip(a, b):\n",
    "        val += i * j\n",
    "    return val\n",
    "\n",
    "print(f\"Výsledek: {dot_product(a, b)}\\nČas: {process_time() - t}s\") "
   ]
  },
  {
   "cell_type": "markdown",
   "metadata": {},
   "source": [
    "##### NumPy"
   ]
  },
  {
   "cell_type": "code",
   "execution_count": null,
   "metadata": {},
   "outputs": [],
   "source": [
    "a = np.array([25, 45, 14, 35, 2, 6, 34])\n",
    "b = np.array([36, 86, 93, 11, 26, 57, 78])\n",
    "\n",
    "t = process_time()\n",
    "\n",
    "print(f\"Výsledek: {a @ b}\\nČas: {process_time() - t}s\")"
   ]
  },
  {
   "cell_type": "markdown",
   "metadata": {},
   "source": [
    "### **Určitý integrál**"
   ]
  },
  {
   "cell_type": "markdown",
   "metadata": {},
   "source": [
    "##### Python"
   ]
  },
  {
   "cell_type": "code",
   "execution_count": null,
   "metadata": {},
   "outputs": [],
   "source": [
    "# Pomocí Newtonových-Cotesových vzorců\n",
    "\n",
    "def f(x): \n",
    "    return (x**2 - 30) / (x + 2)\n",
    "   \n",
    "a = 5\n",
    "b = 10\n",
    "dx = 0.001\n",
    "\n",
    "t = process_time()\n",
    "\n",
    "n = int((b - a) // dx) + 1\n",
    "integral = f(a) + f(b)\n",
    "\n",
    "for i in range(1, n):\n",
    "    integral += 2 * f(a + i * dx)\n",
    "\n",
    "integral *= dx / 2\n",
    "\n",
    "print(f\"Výsledek: {integral}\\nČas: {process_time() - t}s\")"
   ]
  },
  {
   "cell_type": "markdown",
   "metadata": {},
   "source": [
    "##### SciPy"
   ]
  },
  {
   "cell_type": "code",
   "execution_count": null,
   "metadata": {},
   "outputs": [],
   "source": [
    "import scipy.integrate as integrate\n",
    "\n",
    "def f(x): \n",
    "    return (x**2 - 30) / (x + 2)\n",
    "\n",
    "t = process_time()\n",
    "res = integrate.quad(f, a, b)\n",
    "\n",
    "print(f\"Výsledek: {res[0]}\\nČas: {process_time() - t}s\")"
   ]
  },
  {
   "cell_type": "markdown",
   "metadata": {},
   "source": [
    "### **Výpočet determinantu**"
   ]
  },
  {
   "cell_type": "markdown",
   "metadata": {},
   "source": [
    "##### Python"
   ]
  },
  {
   "cell_type": "code",
   "execution_count": null,
   "metadata": {},
   "outputs": [],
   "source": [
    "def determinant(matrix, mul=1):\n",
    "    width = len(matrix)\n",
    "    if width == 1:\n",
    "        return mul * matrix[0][0]\n",
    "    else:\n",
    "        sign = -1\n",
    "        answer = 0\n",
    "        for i in range(width):\n",
    "            m = []\n",
    "            for j in range(1, width):\n",
    "                buff = []\n",
    "                for k in range(width):\n",
    "                    if k != i:\n",
    "                        buff.append(matrix[j][k])\n",
    "                m.append(buff)\n",
    "            sign *= -1\n",
    "            answer = answer + mul * determinant(m, sign * matrix[0][i])\n",
    "    return answer\n",
    "\n",
    "a = [[5, 3, 7, 7], [8, 10, 2, 6], [1, 4, 4, 2], [5, 8, 5, 7]]\n",
    "t = process_time()\n",
    "\n",
    "print(f\"Výsledek: {determinant(a)}\\nČas: {process_time() - t}s\")"
   ]
  },
  {
   "cell_type": "markdown",
   "metadata": {},
   "source": [
    "##### NumPy"
   ]
  },
  {
   "cell_type": "code",
   "execution_count": null,
   "metadata": {},
   "outputs": [],
   "source": [
    "a = np.array([[5, 3, 7, 7], [8, 10, 2, 6], [1, 4, 4, 2], [5, 8, 5, 7]])\n",
    "val = np.linalg.det(a)\n",
    "t = process_time()\n",
    "\n",
    "print(f\"Výsledek: {val}\\nČas: {process_time() - t}s\")"
   ]
  },
  {
   "cell_type": "markdown",
   "metadata": {},
   "source": [
    "### **Transpozice matic**"
   ]
  },
  {
   "cell_type": "markdown",
   "metadata": {},
   "source": [
    "##### Python"
   ]
  },
  {
   "cell_type": "code",
   "execution_count": null,
   "metadata": {},
   "outputs": [],
   "source": [
    "def transpose(matrix):\n",
    "    rows = len(matrix)\n",
    "    cols = len(matrix[0])\n",
    "\n",
    "    matrix_n = []\n",
    "\n",
    "    for j in range(cols):\n",
    "        row = []\n",
    "        for i in range(rows):\n",
    "           row.append(matrix[i][j])\n",
    "        matrix_n.append(row)\n",
    "\n",
    "    return matrix_n\n",
    "\n",
    "a = [[7, 8, 9, 7], [4, 6, 7, 6], [8, 5, 3, 1]]\n",
    "t = process_time()\n",
    "\n",
    "print(f\"Výsledek:\\n{transpose(a)}\\nČas: {process_time() - t}s\")"
   ]
  },
  {
   "cell_type": "markdown",
   "metadata": {},
   "source": [
    "##### NumPy"
   ]
  },
  {
   "cell_type": "code",
   "execution_count": null,
   "metadata": {},
   "outputs": [],
   "source": [
    "a = np.array([[7, 8, 9, 7], [4, 6, 7, 6], [8, 5, 3, 1]])\n",
    "t = process_time()\n",
    "\n",
    "print(f\"Výsledek:\\n{a.transpose()}\\nČas: {process_time() - t}s\")"
   ]
  },
  {
   "cell_type": "markdown",
   "metadata": {},
   "source": [
    "### **Kvadratické rovnice**"
   ]
  },
  {
   "cell_type": "markdown",
   "metadata": {},
   "source": [
    "##### *Rovnice: x^2 + 4x - 20 = 0*"
   ]
  },
  {
   "cell_type": "markdown",
   "metadata": {},
   "source": [
    "##### Python"
   ]
  },
  {
   "cell_type": "code",
   "execution_count": null,
   "metadata": {},
   "outputs": [],
   "source": [
    "import cmath\n",
    "\n",
    "def quadratic_equation(a, b, c):\n",
    "    D = (b ** 2) - (4 * a * c)\n",
    "    first_root = (-b - cmath.sqrt(D)) / (2 * a)\n",
    "    second_root = (-b + cmath.sqrt(D)) / (2 * a)\n",
    "    return [first_root, second_root]\n",
    "\n",
    "t = process_time()\n",
    "\n",
    "print(f\"Výsledek:{quadratic_equation(1, 4, -20)}\\nČas: {process_time() - t}s\")"
   ]
  },
  {
   "cell_type": "markdown",
   "metadata": {},
   "source": [
    "##### NumPy"
   ]
  },
  {
   "cell_type": "code",
   "execution_count": null,
   "metadata": {},
   "outputs": [],
   "source": [
    "coeff = [1, 4, -20]\n",
    "t = process_time()\n",
    "sol = np.roots(coeff)\n",
    "\n",
    "print(f\"Výsledek: {sol}\\nČas: {process_time() - t}s\")"
   ]
  }
 ],
 "metadata": {
  "interpreter": {
   "hash": "88279d2366fe020547cde40dd65aa0e3aa662a6ec1f3ca12d88834876c85e1a6"
  },
  "kernelspec": {
   "display_name": "Python 3.9.7 ('base')",
   "language": "python",
   "name": "python3"
  },
  "language_info": {
   "codemirror_mode": {
    "name": "ipython",
    "version": 3
   },
   "file_extension": ".py",
   "mimetype": "text/x-python",
   "name": "python",
   "nbconvert_exporter": "python",
   "pygments_lexer": "ipython3",
   "version": "3.9.7"
  },
  "orig_nbformat": 4
 },
 "nbformat": 4,
 "nbformat_minor": 2
}
