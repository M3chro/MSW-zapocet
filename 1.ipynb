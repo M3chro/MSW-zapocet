{
 "cells": [
  {
   "cell_type": "markdown",
   "metadata": {},
   "source": [
    "## **1) Knihovny a moduly pro matematické výpočty**"
   ]
  },
  {
   "cell_type": "markdown",
   "metadata": {},
   "source": [
    "### **Skalární součin**"
   ]
  },
  {
   "cell_type": "markdown",
   "metadata": {},
   "source": [
    "#### Python"
   ]
  },
  {
   "cell_type": "code",
   "execution_count": 513,
   "metadata": {},
   "outputs": [
    {
     "name": "stdout",
     "output_type": "stream",
     "text": [
      "Výsledek: 9503\n",
      "Čas: 5.630000000422797e-05s\n"
     ]
    }
   ],
   "source": [
    "import numpy as np\n",
    "import time\n",
    "\n",
    "a = [25, 45, 14, 35, 2, 6, 34]\n",
    "b = [36, 86, 93, 11, 26, 57, 78]\n",
    "\n",
    "t = time.perf_counter()\n",
    "\n",
    "def dot_product(a, b): \n",
    "    val = 0\n",
    "    for i, j in zip(a, b):\n",
    "        val += i * j\n",
    "    return val\n",
    "print(f\"Výsledek: {dot_product(a, b)}\\nČas: {time.perf_counter() - t}s\") "
   ]
  },
  {
   "cell_type": "markdown",
   "metadata": {},
   "source": [
    "#### NumPy"
   ]
  },
  {
   "cell_type": "code",
   "execution_count": 514,
   "metadata": {},
   "outputs": [
    {
     "name": "stdout",
     "output_type": "stream",
     "text": [
      "Výsledek: 9503\n",
      "Čas: 3.749999999769216e-05s\n"
     ]
    }
   ],
   "source": [
    "a = np.array([25, 45, 14, 35, 2, 6, 34])\n",
    "b = np.array([36, 86, 93, 11, 26, 57, 78])\n",
    "\n",
    "t = time.perf_counter()\n",
    "\n",
    "print(f\"Výsledek: {a @ b}\\nČas: {time.perf_counter() - t}s\")"
   ]
  },
  {
   "cell_type": "markdown",
   "metadata": {},
   "source": [
    "### **Určitý integrál**"
   ]
  },
  {
   "cell_type": "markdown",
   "metadata": {},
   "source": [
    "#### Python"
   ]
  },
  {
   "cell_type": "code",
   "execution_count": 515,
   "metadata": {},
   "outputs": [
    {
     "name": "stdout",
     "output_type": "stream",
     "text": [
      "Výsledek: 13.486090951778758\n",
      "Čas: 0.0016778999999971234s\n"
     ]
    }
   ],
   "source": [
    "# Pomocí Newtonových-Cotesových vzorců\n",
    "\n",
    "def f(x): \n",
    "    return (x**2 - 30) / (x + 2)\n",
    "   \n",
    "a = 5\n",
    "b = 10\n",
    "dx = 0.001\n",
    "\n",
    "t = time.perf_counter()\n",
    "\n",
    "n = int((b - a) // dx) + 1\n",
    "integral = f(a) + f(b)\n",
    "\n",
    "for i in range(1, n):\n",
    "    integral += 2 * f(a + i * dx)\n",
    "\n",
    "integral *= dx / 2\n",
    "\n",
    "print(f\"Výsledek: {integral}\\nČas: {time.perf_counter() - t}s\")"
   ]
  },
  {
   "cell_type": "markdown",
   "metadata": {},
   "source": [
    "#### SciPy"
   ]
  },
  {
   "cell_type": "code",
   "execution_count": 516,
   "metadata": {},
   "outputs": [
    {
     "name": "stdout",
     "output_type": "stream",
     "text": [
      "Výsledek: 13.486090980950138\n",
      "Čas: 5.8099999996841234e-05s\n"
     ]
    }
   ],
   "source": [
    "import scipy.integrate as integrate\n",
    "\n",
    "def f(x): \n",
    "    return (x**2 - 30) / (x + 2)\n",
    "\n",
    "t = time.perf_counter()\n",
    "res = integrate.quad(f, a, b)\n",
    "\n",
    "print(f\"Výsledek: {res[0]}\\nČas: {time.perf_counter() - t}s\")"
   ]
  },
  {
   "cell_type": "markdown",
   "metadata": {},
   "source": [
    "### **Výpočet determinantu**"
   ]
  },
  {
   "cell_type": "markdown",
   "metadata": {},
   "source": [
    "#### Python"
   ]
  },
  {
   "cell_type": "code",
   "execution_count": 517,
   "metadata": {},
   "outputs": [
    {
     "name": "stdout",
     "output_type": "stream",
     "text": [
      "Výsledek: 408\n",
      "Čas: 6.0400000002402976e-05s\n"
     ]
    }
   ],
   "source": [
    "def determinant(matrix, mul=1):\n",
    "    width = len(matrix)\n",
    "    if width == 1:\n",
    "        return mul * matrix[0][0]\n",
    "    else:\n",
    "        sign = -1\n",
    "        answer = 0\n",
    "        for i in range(width):\n",
    "            m = []\n",
    "            for j in range(1, width):\n",
    "                buff = []\n",
    "                for k in range(width):\n",
    "                    if k != i:\n",
    "                        buff.append(matrix[j][k])\n",
    "                m.append(buff)\n",
    "            sign *= -1\n",
    "            answer = answer + mul * determinant(m, sign * matrix[0][i])\n",
    "    return answer\n",
    "\n",
    "a = [[5, 3, 7, 7], [8, 10, 2, 6], [1, 4, 4, 2], [5, 8, 5, 7]]\n",
    "t = time.perf_counter()\n",
    "\n",
    "print(f\"Výsledek: {determinant(a)}\\nČas: {time.perf_counter() - t}s\")"
   ]
  },
  {
   "cell_type": "markdown",
   "metadata": {},
   "source": [
    "#### NumPy"
   ]
  },
  {
   "cell_type": "code",
   "execution_count": 518,
   "metadata": {},
   "outputs": [
    {
     "name": "stdout",
     "output_type": "stream",
     "text": [
      "Výsledek: 407.9999999999999\n",
      "Čas: 2.5700000001904755e-05s\n"
     ]
    }
   ],
   "source": [
    "a = np.array([[5, 3, 7, 7], [8, 10, 2, 6], [1, 4, 4, 2], [5, 8, 5, 7]])\n",
    "val = np.linalg.det(a)\n",
    "t = time.perf_counter()\n",
    "\n",
    "print(f\"Výsledek: {val}\\nČas: {time.perf_counter() - t}s\")"
   ]
  },
  {
   "cell_type": "markdown",
   "metadata": {},
   "source": [
    "### **Transpozice matic**"
   ]
  },
  {
   "cell_type": "markdown",
   "metadata": {},
   "source": [
    "#### Python"
   ]
  },
  {
   "cell_type": "code",
   "execution_count": 519,
   "metadata": {},
   "outputs": [
    {
     "name": "stdout",
     "output_type": "stream",
     "text": [
      "Výsledek:\n",
      "[[7, 4, 8], [8, 6, 5], [9, 7, 3], [7, 6, 1]]\n",
      "Čas: 2.83000000038669e-05s\n"
     ]
    }
   ],
   "source": [
    "def transpose(matrix):\n",
    "    rows = len(matrix)\n",
    "    cols = len(matrix[0])\n",
    "\n",
    "    matrix_n = []\n",
    "\n",
    "    for j in range(cols):\n",
    "        row = []\n",
    "        for i in range(rows):\n",
    "           row.append(matrix[i][j])\n",
    "        matrix_n.append(row)\n",
    "\n",
    "    return matrix_n\n",
    "\n",
    "a = [[7, 8, 9, 7], [4, 6, 7, 6], [8, 5, 3, 1]]\n",
    "t = time.perf_counter()\n",
    "\n",
    "print(f\"Výsledek:\\n{transpose(a)}\\nČas: {time.perf_counter() - t}s\")"
   ]
  },
  {
   "cell_type": "markdown",
   "metadata": {},
   "source": [
    "#### NumPy"
   ]
  },
  {
   "cell_type": "code",
   "execution_count": 520,
   "metadata": {},
   "outputs": [
    {
     "name": "stdout",
     "output_type": "stream",
     "text": [
      "Výsledek:\n",
      "[[7 4 8]\n",
      " [8 6 5]\n",
      " [9 7 3]\n",
      " [7 6 1]]\n",
      "Čas: 0.00012080000000480595s\n"
     ]
    }
   ],
   "source": [
    "a = np.array([[7, 8, 9, 7], [4, 6, 7, 6], [8, 5, 3, 1]])\n",
    "t = time.perf_counter()\n",
    "\n",
    "print(f\"Výsledek:\\n{a.transpose()}\\nČas: {time.perf_counter() - t}s\")"
   ]
  },
  {
   "cell_type": "markdown",
   "metadata": {},
   "source": [
    "### **Kvadratické rovnice**"
   ]
  },
  {
   "cell_type": "markdown",
   "metadata": {},
   "source": [
    "#### **Rovnice: x^2 + 4x - 20 = 0**"
   ]
  },
  {
   "cell_type": "markdown",
   "metadata": {},
   "source": [
    "#### Python"
   ]
  },
  {
   "cell_type": "code",
   "execution_count": 521,
   "metadata": {},
   "outputs": [
    {
     "name": "stdout",
     "output_type": "stream",
     "text": [
      "Výsledek:[(-6.898979485566356+0j), (2.8989794855663558+0j)]\n",
      "Čas: 3.480000000166683e-05s\n"
     ]
    }
   ],
   "source": [
    "import cmath\n",
    "\n",
    "def quadratic_equation(a, b, c):\n",
    "    D = (b ** 2) - (4 * a * c)\n",
    "    first_root = (-b - cmath.sqrt(D)) / (2 * a)\n",
    "    second_root = (-b + cmath.sqrt(D)) / (2 * a)\n",
    "    return [first_root, second_root]\n",
    "\n",
    "t = time.perf_counter()\n",
    "\n",
    "print(f\"Výsledek:{quadratic_equation(1, 4, -20)}\\nČas: {time.perf_counter() - t}s\")"
   ]
  },
  {
   "cell_type": "markdown",
   "metadata": {},
   "source": [
    "#### NumPy"
   ]
  },
  {
   "cell_type": "code",
   "execution_count": 522,
   "metadata": {},
   "outputs": [
    {
     "name": "stdout",
     "output_type": "stream",
     "text": [
      "Výsledek: [-6.89897949  2.89897949]\n",
      "Čas: 0.00033100000000274576s\n"
     ]
    }
   ],
   "source": [
    "coeff = [1, 4, -20]\n",
    "t = time.perf_counter()\n",
    "sol = np.roots(coeff)\n",
    "\n",
    "print(f\"Výsledek: {sol}\\nČas: {time.perf_counter() - t}s\")"
   ]
  }
 ],
 "metadata": {
  "interpreter": {
   "hash": "88279d2366fe020547cde40dd65aa0e3aa662a6ec1f3ca12d88834876c85e1a6"
  },
  "kernelspec": {
   "display_name": "Python 3.9.7 ('base')",
   "language": "python",
   "name": "python3"
  },
  "language_info": {
   "codemirror_mode": {
    "name": "ipython",
    "version": 3
   },
   "file_extension": ".py",
   "mimetype": "text/x-python",
   "name": "python",
   "nbconvert_exporter": "python",
   "pygments_lexer": "ipython3",
   "version": "3.9.7"
  },
  "orig_nbformat": 4
 },
 "nbformat": 4,
 "nbformat_minor": 2
}
