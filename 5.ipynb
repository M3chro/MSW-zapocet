{
 "cells": [
  {
   "cell_type": "markdown",
   "metadata": {},
   "source": [
    "## **5) Hledání kořenů rovnice**"
   ]
  },
  {
   "cell_type": "code",
   "execution_count": 249,
   "metadata": {},
   "outputs": [],
   "source": [
    "import numpy as np\n",
    "from scipy import optimize\n",
    "import time\n",
    "\n",
    "def f(x):\n",
    "    return 3*x**5 + 2*x**3 - 4*x**2 + 2\n",
    "\n",
    "def g(x):\n",
    "    return np.log(2*x**5)\n",
    "\n",
    "def h(x):\n",
    "    return 3*np.sin(2*x - 1) + 1"
   ]
  },
  {
   "cell_type": "markdown",
   "metadata": {},
   "source": [
    "### Uzavřená: Bisekce (půlení intervalu)"
   ]
  },
  {
   "cell_type": "code",
   "execution_count": 250,
   "metadata": {},
   "outputs": [
    {
     "name": "stdout",
     "output_type": "stream",
     "text": [
      "Kořen f(x): -0.5879489446942898\n",
      "Čas: 6.41999995423248e-05s\n",
      "Kořen g(x): 0.870550563296456\n",
      "Čas: 9.349999982077861e-05s\n",
      "Kořen h(x): 0.330081545271787\n",
      "Čas: 7.439999990310753e-05s\n"
     ]
    }
   ],
   "source": [
    "a0 = 0.1\n",
    "b0 = 1\n",
    "\n",
    "t = time.perf_counter()\n",
    "f_root = optimize.bisect(f, -1, 1)\n",
    "print(f\"Kořen f(x): {f_root}\\nČas: {time.perf_counter() - t}s\")\n",
    "\n",
    "t = time.perf_counter()\n",
    "g_root = optimize.bisect(g, a0, b0)\n",
    "print(f\"Kořen g(x): {g_root}\\nČas: {time.perf_counter() - t}s\")\n",
    "\n",
    "t = time.perf_counter()\n",
    "h_root = optimize.bisect(h, a0, b0)\n",
    "print(f\"Kořen h(x): {h_root}\\nČas: {time.perf_counter() - t}s\")"
   ]
  },
  {
   "cell_type": "markdown",
   "metadata": {},
   "source": [
    "### Otevřená: Newtonova metoda (metoda tečen)"
   ]
  },
  {
   "cell_type": "code",
   "execution_count": 251,
   "metadata": {},
   "outputs": [
    {
     "name": "stdout",
     "output_type": "stream",
     "text": [
      "Kořen f(x): -0.5879489446933549\n",
      "Čas: 0.00022669999998470303s\n",
      "Kořen g(x): 0.870550563296124\n",
      "Čas: 0.0002120000008289935s\n",
      "Kořen h(x): 0.33008154527293904\n",
      "Čas: 0.00013699999999516876s\n"
     ]
    }
   ],
   "source": [
    "t = time.perf_counter()\n",
    "f_root = optimize.newton(f, x0=(-1+1/2))\n",
    "print(f\"Kořen f(x): {f_root}\\nČas: {time.perf_counter() - t}s\")\n",
    "\n",
    "t = time.perf_counter()\n",
    "g_root = optimize.newton(g, x0=(a0+b0/2))\n",
    "print(f\"Kořen g(x): {g_root}\\nČas: {time.perf_counter() - t}s\")\n",
    "\n",
    "t = time.perf_counter()\n",
    "h_root = optimize.newton(h, x0=(a0+b0/2))\n",
    "print(f\"Kořen h(x): {h_root}\\nČas: {time.perf_counter() - t}s\")"
   ]
  }
 ],
 "metadata": {
  "interpreter": {
   "hash": "88279d2366fe020547cde40dd65aa0e3aa662a6ec1f3ca12d88834876c85e1a6"
  },
  "kernelspec": {
   "display_name": "Python 3.9.7 ('base')",
   "language": "python",
   "name": "python3"
  },
  "language_info": {
   "codemirror_mode": {
    "name": "ipython",
    "version": 3
   },
   "file_extension": ".py",
   "mimetype": "text/x-python",
   "name": "python",
   "nbconvert_exporter": "python",
   "pygments_lexer": "ipython3",
   "version": "3.9.7"
  },
  "orig_nbformat": 4
 },
 "nbformat": 4,
 "nbformat_minor": 2
}
